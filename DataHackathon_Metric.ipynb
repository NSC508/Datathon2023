{
  "nbformat": 4,
  "nbformat_minor": 0,
  "metadata": {
    "colab": {
      "provenance": []
    },
    "kernelspec": {
      "name": "python3",
      "display_name": "Python 3"
    },
    "language_info": {
      "name": "python"
    }
  },
  "cells": [
    {
      "cell_type": "code",
      "execution_count": 55,
      "metadata": {
        "id": "uVfVFCHjH8tn"
      },
      "outputs": [],
      "source": [
        "import pandas as pd\n",
        "import numpy as np"
      ]
    },
    {
      "cell_type": "code",
      "source": [
        "spd = pd.read_csv('/content/SPD_Crime_Data__2008-Present.csv')\n",
        "off_start_dt = pd.to_datetime(spd['Offense Start DateTime'], format='%m/%d/%Y %I:%M:%S %p')\n",
        "spd['start_hour'] = off_start_dt.dt.hour\n",
        "spd['start_month'] = off_start_dt.dt.month\n",
        "spd['start_year'] = off_start_dt.dt.year\n",
        "\n",
        "off_record_dt = pd.to_datetime(spd['Report DateTime'], format='%m/%d/%Y %I:%M:%S %p')\n",
        "spd['report_hour'] = off_record_dt.dt.hour\n",
        "spd['report_month'] = off_record_dt.dt.month\n",
        "spd['report_year'] = off_record_dt.dt.year\n",
        "\n",
        "spd = spd[spd['start_year'] > 2007]"
      ],
      "metadata": {
        "id": "L9WaaQP2IMlX"
      },
      "execution_count": 163,
      "outputs": []
    },
    {
      "cell_type": "code",
      "source": [
        "def is_night(hour):\n",
        "    return hour > 18 or hour < 8\n",
        "spd['is_night'] = spd['start_hour'].apply(is_night)"
      ],
      "metadata": {
        "id": "J7m4xlOk-d6x"
      },
      "execution_count": 164,
      "outputs": []
    },
    {
      "cell_type": "code",
      "source": [
        "night_data = spd[spd['is_night']]"
      ],
      "metadata": {
        "id": "ScDfZQOgKYaP"
      },
      "execution_count": 165,
      "outputs": []
    },
    {
      "cell_type": "code",
      "source": [
        "nh_spd = spd.groupby('MCPP') # neighbourhood groupped spd"
      ],
      "metadata": {
        "id": "OVGxcKggIRzQ"
      },
      "execution_count": 161,
      "outputs": []
    },
    {
      "cell_type": "code",
      "source": [
        "spd.groupby('Crime Against Category').get_group('PROPERTY')['Offense Parent Group'].unique()"
      ],
      "metadata": {
        "colab": {
          "base_uri": "https://localhost:8080/"
        },
        "id": "pfwXk-DNKWQR",
        "outputId": "39ef7766-cd6b-41b6-bacc-831efa09cebd"
      },
      "execution_count": 166,
      "outputs": [
        {
          "output_type": "execute_result",
          "data": {
            "text/plain": [
              "array(['LARCENY-THEFT', 'ROBBERY',\n",
              "       'DESTRUCTION/DAMAGE/VANDALISM OF PROPERTY', 'FRAUD OFFENSES',\n",
              "       'COUNTERFEITING/FORGERY', 'EXTORTION/BLACKMAIL',\n",
              "       'MOTOR VEHICLE THEFT', 'STOLEN PROPERTY OFFENSES', 'EMBEZZLEMENT',\n",
              "       'ARSON', 'BAD CHECKS', 'BRIBERY', 'BURGLARY/BREAKING&ENTERING'],\n",
              "      dtype=object)"
            ]
          },
          "metadata": {},
          "execution_count": 166
        }
      ]
    },
    {
      "cell_type": "code",
      "source": [
        "#night_data[night_data['Offense Parent Group']=='LARCENY-THEFT'][['start_hour','is_night']]"
      ],
      "metadata": {
        "id": "eqkOdm5UCcp3"
      },
      "execution_count": null,
      "outputs": []
    },
    {
      "cell_type": "code",
      "source": [
        "x = spd.groupby('100 Block Address').count()\n",
        "d = x[x['Offense Parent Group'] > 100].to_dict()"
      ],
      "metadata": {
        "id": "2pylzexba47j"
      },
      "execution_count": 75,
      "outputs": []
    },
    {
      "cell_type": "code",
      "source": [
        "d['Longitude']"
      ],
      "metadata": {
        "id": "ogAb6SImIceo"
      },
      "execution_count": null,
      "outputs": []
    },
    {
      "cell_type": "code",
      "source": [
        "with open('add.txt', 'w') as f:\n",
        "  for x in list(spd['100 Block Address'].unique()):\n",
        "    f.write(str(x)+'\\n') "
      ],
      "metadata": {
        "id": "AS2yBelrWDqA"
      },
      "execution_count": 45,
      "outputs": []
    },
    {
      "cell_type": "code",
      "source": [
        "crime_by_night = night_data.groupby('Offense Parent Group').count() / spd.groupby('Offense Parent Group').count()\n",
        "\n",
        "crime_by_night['night_percent'] = crime_by_night['Report Number']\n",
        "crime_by_night['night_percent'].to_csv('crime_by_night.csv') "
      ],
      "metadata": {
        "id": "M_oAtCILBzKJ"
      },
      "execution_count": 167,
      "outputs": []
    },
    {
      "cell_type": "code",
      "source": [
        "night_pp = night_data.groupby('MCPP').count() / spd.groupby('MCPP').count()\n",
        "night_pp['night_modifier'] = night_pp['is_night']\n",
        "#night_pp = night_index.dropna()['is_night'].count()\n",
        "\n",
        "mean_npp =  night_pp.dropna()['is_night'].mean()\n",
        "#chagne cxv header\n",
        "night_index = night_pp.dropna() / mean_npp - 1\n",
        "night_index = night_index['night_modifier'] \n",
        "night_index = night_index.sort_values(ascending=False)\n",
        "night_index.to_csv('night_modifier.csv')\n",
        "night_pp['is_night'].mean()\n",
        "night_index"
      ],
      "metadata": {
        "id": "S6TIhVvxDccu"
      },
      "execution_count": null,
      "outputs": []
    },
    {
      "cell_type": "code",
      "source": [
        "c = spd.dropna()\n",
        "c['ci'] = c['Report Number']\n",
        "total_ci = c['ci'].count()\n",
        "area_pp = c.groupby('MCPP').count()['ci'] / total_ci\n",
        "area_pp = area_pp / area_pp.mean()\n",
        "# night_pp['night_index'] = night_pp['is_night']\n",
        "# #night_pp = night_index.dropna()['is_night'].count()\n",
        "\n",
        "# mean_npp =  night_pp.dropna()['is_night'].mean()\n",
        "# #chagne cxv header\n",
        "# night_index = night_pp.dropna() / mean_npp - 1\n",
        "# night_index = night_index['night_index'] \n",
        "# night_index.to_csv('night_index')\n",
        "# night_pp['is_night'].mean()\n",
        "nci = area_pp + night_index\n",
        "area_pp.sort_values(ascending=False).to_csv('overall_crime_index.csv')\n",
        "nci.sort_values(ascending=False).to_csv('night_crime_index.csv')"
      ],
      "metadata": {
        "colab": {
          "base_uri": "https://localhost:8080/"
        },
        "id": "GQ_cbeq8StEL",
        "outputId": "09525574-de48-4f6e-b3b0-8e21e5e7bb0a"
      },
      "execution_count": 179,
      "outputs": [
        {
          "output_type": "stream",
          "name": "stderr",
          "text": [
            "<ipython-input-179-d859ad9c3e8c>:2: SettingWithCopyWarning: \n",
            "A value is trying to be set on a copy of a slice from a DataFrame.\n",
            "Try using .loc[row_indexer,col_indexer] = value instead\n",
            "\n",
            "See the caveats in the documentation: https://pandas.pydata.org/pandas-docs/stable/user_guide/indexing.html#returning-a-view-versus-a-copy\n",
            "  c['ci'] = c['Report Number']\n"
          ]
        }
      ]
    },
    {
      "cell_type": "code",
      "source": [
        "drive = spd.dropna()\n",
        "of_list =  ['Theft of Motor Vehicle Parts or Accessories',\n",
        "                              'Driving Under the Influence', \n",
        "                              'Theft From Motor Vehicle',\n",
        "                                                      'Motor Vehicle Theft']\n",
        "\n",
        "pattern = '|'.join(of_list)       \n",
        "filter = drive['Offense'].str.match(pattern)                                           \n",
        "drive = drive[filter]                                          "
      ],
      "metadata": {
        "id": "WOgcaf5xEiXU"
      },
      "execution_count": 176,
      "outputs": []
    },
    {
      "cell_type": "code",
      "source": [
        "drive['ci'] = drive['Report Number']\n",
        "total_ci = drive['ci'].count()\n",
        "d = drive.groupby('MCPP').count()['ci'] / total_ci\n",
        "d = d / d.mean()\n",
        "# night_pp['night_index'] = night_pp['is_night']\n",
        "# #night_pp = night_index.dropna()['is_night'].count()\n",
        "\n",
        "# mean_npp =  night_pp.dropna()['is_night'].mean()\n",
        "# #chagne cxv header\n",
        "# night_index = night_pp.dropna() / mean_npp - 1\n",
        "# night_index = night_index['night_index'] \n",
        "# night_index.to_csv('night_index')\n",
        "# night_pp['is_night'].mean()\n",
        "#nci = area_pp + night_index\n",
        "d.sort_values(ascending=False).to_csv('car_crime_index.csv')"
      ],
      "metadata": {
        "id": "o5IYXeMybla1"
      },
      "execution_count": 178,
      "outputs": []
    },
    {
      "cell_type": "code",
      "source": [
        "df = pd.DataFrame()\n",
        "df['overall_crime_index'] = area_pp.sort_values(ascending=False)\n",
        "df['night_modifier'] = night_index\n",
        "df['night_crime_index'] = area_pp  +  night_index\n",
        "df.to_csv('combined_ci.csv')"
      ],
      "metadata": {
        "id": "AEhovghGdID4"
      },
      "execution_count": 189,
      "outputs": []
    }
  ]
}